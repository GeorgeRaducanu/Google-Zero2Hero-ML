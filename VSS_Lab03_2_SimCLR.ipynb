{
  "nbformat": 4,
  "nbformat_minor": 0,
  "metadata": {
    "colab": {
      "provenance": [],
      "gpuType": "T4"
    },
    "kernelspec": {
      "name": "python3",
      "display_name": "Python 3"
    },
    "language_info": {
      "name": "python"
    },
    "accelerator": "GPU"
  },
  "cells": [
    {
      "cell_type": "markdown",
      "source": [
        "# VSS Summer School\n",
        "## Self-supervised contrastive learning with SimCLR\n",
        "\n",
        "In this lab, we will explore the implementation of SimCLR, a method for self-supervised pretraining of networks.\n",
        "\n",
        "We will perform our pretraining on CIFAR10, a dataset of natural images, and then fine tune our network on SVHN, a dataset of pictures of house numbers.\n",
        "\n",
        "You can find the original paper here: A Simple Framework for Contrastive Learning of Visual Representations (https://arxiv.org/abs/2002.05709)\n",
        "\n"
      ],
      "metadata": {
        "id": "Mqen6PAcwfZU"
      }
    },
    {
      "cell_type": "markdown",
      "source": [
        "First off, lets define the training and validation loops for normal, supervised classification."
      ],
      "metadata": {
        "id": "Z7As4KHUyINN"
      }
    },
    {
      "cell_type": "code",
      "source": [
        "import sys\n",
        "\n",
        "import numpy as np\n",
        "from tqdm import tqdm\n",
        "\n",
        "import torch\n",
        "import torch.nn as nn\n",
        "import torch.optim as optim\n",
        "import torchvision\n",
        "from torchvision import transforms, datasets\n",
        "from torchvision.models import resnet18\n",
        "from torch.utils.data import Dataset, DataLoader\n",
        "from sklearn.manifold import TSNE"
      ],
      "metadata": {
        "id": "CCO34aSSxCC9"
      },
      "execution_count": 1,
      "outputs": []
    },
    {
      "cell_type": "code",
      "source": [
        "device = torch.device(\"cuda\" if torch.cuda.is_available() else \"cpu\")\n",
        "\n",
        "def train_epoch(model, dataloader, device, optimizer, criterion, epoch):\n",
        "    model.train()\n",
        "\n",
        "    total_train_loss = 0.0\n",
        "    dataset_size = 0\n",
        "\n",
        "    bar = tqdm(enumerate(dataloader), total=len(dataloader), colour='cyan', file=sys.stdout)\n",
        "    for step, (images, labels) in bar:\n",
        "        images = images.to(device)\n",
        "        labels = labels.to(device)\n",
        "\n",
        "        batch_size = images.shape[0]\n",
        "\n",
        "        optimizer.zero_grad()\n",
        "        pred = model(images)\n",
        "        loss = criterion(pred, labels)\n",
        "\n",
        "        loss.backward()\n",
        "        optimizer.step()\n",
        "\n",
        "        total_train_loss += (loss.item() * batch_size)\n",
        "        dataset_size += batch_size\n",
        "\n",
        "        epoch_loss = np.round(total_train_loss / dataset_size, 2)\n",
        "        bar.set_postfix(Epoch=epoch, Train_Loss=epoch_loss)\n",
        "\n",
        "\n",
        "    return epoch_loss\n",
        "\n",
        "def valid_epoch(model, dataloader, device, criterion, epoch):\n",
        "    model.eval()\n",
        "\n",
        "    total_val_loss = 0.0\n",
        "    dataset_size = 0\n",
        "\n",
        "    correct = 0\n",
        "\n",
        "    bar = tqdm(enumerate(dataloader), total=len(dataloader), colour='cyan', file=sys.stdout)\n",
        "    for step, (images, labels) in bar:\n",
        "        images = images.to(device)\n",
        "        labels = labels.to(device)\n",
        "\n",
        "        batch_size = images.shape[0]\n",
        "\n",
        "        pred = model(images)\n",
        "        loss = criterion(pred, labels)\n",
        "\n",
        "        _, predicted = torch.max(pred, 1)\n",
        "        correct += (predicted == labels).sum().item()\n",
        "\n",
        "        total_val_loss += (loss.item() * batch_size)\n",
        "        dataset_size += batch_size\n",
        "\n",
        "        epoch_loss = np.round(total_val_loss / dataset_size, 2)\n",
        "\n",
        "        accuracy = np.round(100 * correct / dataset_size, 2)\n",
        "\n",
        "        bar.set_postfix(Epoch=epoch, Valid_Acc=accuracy, Valid_Loss=epoch_loss)\n",
        "\n",
        "    return accuracy, epoch_loss\n",
        "\n",
        "def run_training(model, trainloader, testloader, criterion, optimizer, num_epochs):\n",
        "    if torch.cuda.is_available():\n",
        "        print(\"[INFO] Using GPU: {}\\n\".format(torch.cuda.get_device_name()))\n",
        "\n",
        "    top_accuracy = 0.0\n",
        "\n",
        "    for epoch in range(num_epochs):\n",
        "\n",
        "        train_loss = train_epoch(model, trainloader, device, optimizer, criterion, epoch)\n",
        "        with torch.no_grad():\n",
        "            val_accuracy, val_loss = valid_epoch(model, testloader, device, criterion, epoch)\n",
        "            if val_accuracy > top_accuracy:\n",
        "                print(f\"Validation Accuracy Improved ({top_accuracy} ---> {val_accuracy})\")\n",
        "                top_accuracy = val_accuracy\n",
        "        print()"
      ],
      "metadata": {
        "id": "RhvT4M7KxGwn"
      },
      "execution_count": 2,
      "outputs": []
    },
    {
      "cell_type": "code",
      "source": [
        "# TODO - Add more transforms that act as image augmentations\n",
        "# Remember that Self-Supervised methods benefit greatly from \"heavier\" data augmentations\n",
        "# Checkout https://pytorch.org/vision/0.9/transforms.html\n",
        "# Or search on google for a SimCLR implementation and copy their transforms from there\n",
        "\n",
        "# Add horizontal flips, random resized crops, color jitter, grayscale etc.\n",
        "# transforms.RandomHorizontalFlip( ... )\n",
        "# transforms.RandomResizedCrop(... ) # images should remain at 32x32\n",
        "# transforms.RandomRotation(...)\n",
        "# transforms.ColorJitter(...)\n",
        "# transforms.RandomGrayscale(...)\n",
        "\n",
        "\n",
        "transform = transforms.Compose([\n",
        "    # ...\n",
        "    transforms.ToTensor(),\n",
        "    transforms.Normalize((0.5, 0.5, 0.5), (0.5, 0.5, 0.5))\n",
        "])\n",
        "\n",
        "cifar_trainset = datasets.CIFAR10(root='./data', train=True, download=True, transform=transform)\n",
        "cifar_testset = datasets.CIFAR10(root='./data', train=False, download=True, transform=transform)\n",
        "\n",
        "classes = ('plane', 'car', 'bird', 'cat', 'deer', 'dog', 'frog', 'horse', 'ship', 'truck')\n",
        "\n",
        "\n",
        "# Define SVHN dataset (the final, downstream one)\n",
        "svhn_trainset = datasets.SVHN(root='./data', split='train', download=True, transform=transform)\n",
        "svhn_testset = datasets.SVHN(root='./data', split='test', download=True, transform=transform)\n",
        "\n",
        "# Let's just use 10% of the data to make it harder\n",
        "from collections import defaultdict\n",
        "indices_per_class = defaultdict(list)\n",
        "for i in range(len(svhn_trainset)):\n",
        "  _, class_label = svhn_trainset[i]\n",
        "  indices_per_class[class_label].append(i)\n",
        "\n",
        "final_indices = []\n",
        "for class_name, indices in indices_per_class.items():\n",
        "  sampled_indices = indices[:int(0.1 * len(indices))]\n",
        "  final_indices.extend(sampled_indices)\n",
        "\n",
        "svhn_trainset = torch.utils.data.Subset(dataset = svhn_trainset, indices = final_indices)\n",
        "\n",
        "svhn_trainloader = DataLoader(svhn_trainset, batch_size=256, shuffle=True)\n",
        "svhn_testloader = DataLoader(svhn_testset, batch_size=256, shuffle=False)\n"
      ],
      "metadata": {
        "colab": {
          "base_uri": "https://localhost:8080/"
        },
        "id": "SVFeXDa9ykCO",
        "outputId": "d1508e5c-89fb-44fe-f235-7eed1485c919"
      },
      "execution_count": 3,
      "outputs": [
        {
          "output_type": "stream",
          "name": "stdout",
          "text": [
            "Downloading https://www.cs.toronto.edu/~kriz/cifar-10-python.tar.gz to ./data/cifar-10-python.tar.gz\n"
          ]
        },
        {
          "output_type": "stream",
          "name": "stderr",
          "text": [
            "100%|██████████| 170498071/170498071 [00:11<00:00, 14925413.84it/s]\n"
          ]
        },
        {
          "output_type": "stream",
          "name": "stdout",
          "text": [
            "Extracting ./data/cifar-10-python.tar.gz to ./data\n",
            "Files already downloaded and verified\n",
            "Downloading http://ufldl.stanford.edu/housenumbers/train_32x32.mat to ./data/train_32x32.mat\n"
          ]
        },
        {
          "output_type": "stream",
          "name": "stderr",
          "text": [
            "100%|██████████| 182040794/182040794 [00:11<00:00, 15875963.53it/s]\n"
          ]
        },
        {
          "output_type": "stream",
          "name": "stdout",
          "text": [
            "Downloading http://ufldl.stanford.edu/housenumbers/test_32x32.mat to ./data/test_32x32.mat\n"
          ]
        },
        {
          "output_type": "stream",
          "name": "stderr",
          "text": [
            "100%|██████████| 64275384/64275384 [00:06<00:00, 10692689.80it/s]\n"
          ]
        }
      ]
    },
    {
      "cell_type": "code",
      "source": [
        "import matplotlib.pyplot as plt\n",
        "import numpy as np\n",
        "\n",
        "# functions to show an image\n",
        "def imshow(img):\n",
        "    img = img / 2 + 0.5     # unnormalize\n",
        "    npimg = img.numpy()\n",
        "    plt.imshow(np.transpose(npimg, (1, 2, 0)))\n",
        "\n",
        "\n",
        "cifar_trainloader = DataLoader(cifar_trainset, batch_size=256, shuffle=True)\n",
        "# get some random training images\n",
        "dataiter = iter(cifar_trainloader)\n",
        "images, labels = next(dataiter)\n",
        "\n",
        "# show images\n",
        "imshow(torchvision.utils.make_grid(images[:8]))\n",
        "print(' '.join('%8s' % classes[labels[j]] for j in range(8)))\n",
        "plt.show()\n",
        "\n",
        "print('SVHN')\n",
        "\n",
        "dataiter = iter(svhn_trainloader)\n",
        "images, labels = next(dataiter)\n",
        "\n",
        "# show images\n",
        "imshow(torchvision.utils.make_grid(images[:8]))\n",
        "print(' '.join('%8s' % labels[j].item() for j in range(8)))\n",
        "plt.show()\n"
      ],
      "metadata": {
        "colab": {
          "base_uri": "https://localhost:8080/",
          "height": 297
        },
        "id": "82SU5Ng43ImQ",
        "outputId": "68f44b02-46f5-4ff4-c608-7e111ea414f8"
      },
      "execution_count": 4,
      "outputs": [
        {
          "output_type": "stream",
          "name": "stdout",
          "text": [
            "     car    horse     deer      car    truck      car     frog      car\n"
          ]
        },
        {
          "output_type": "display_data",
          "data": {
            "text/plain": [
              "<Figure size 640x480 with 1 Axes>"
            ],
            "image/png": "[encoded data removed]"
          },
          "metadata": {}
        },
        {
          "output_type": "stream",
          "name": "stdout",
          "text": [
            "SVHN\n",
            "       2        1        5        5        2        3        8        8\n"
          ]
        },
        {
          "output_type": "display_data",
          "data": {
            "text/plain": [
              "<Figure size 640x480 with 1 Axes>"
            ],
            "image/png": "[encoded data removed]"
          },
          "metadata": {}
        }
      ]
    },
    {
      "cell_type": "code",
      "source": [
        "learning_rate = 0.001\n",
        "epochs = 5\n",
        "\n",
        "model = torchvision.models.resnet18(pretrained = False) # let's initialize a ResNet18 from scratch and pretrain it ourselves\n",
        "model.fc = nn.Linear(in_features=model.fc.in_features, out_features=10, bias=True)\n",
        "\n",
        "model.to(device)\n",
        "criterion = nn.CrossEntropyLoss()\n",
        "\n",
        "# Adam is an improved gradient descent algorithm\n",
        "optimizer = optim.Adam(model.parameters(), lr=learning_rate)"
      ],
      "metadata": {
        "id": "E-qckcFQzW3p",
        "colab": {
          "base_uri": "https://localhost:8080/"
        },
        "outputId": "78b85139-69c7-4b3a-f08b-ec001b1da97c"
      },
      "execution_count": 5,
      "outputs": [
        {
          "output_type": "stream",
          "name": "stderr",
          "text": [
            "/usr/local/lib/python3.10/dist-packages/torchvision/models/_utils.py:208: UserWarning: The parameter 'pretrained' is deprecated since 0.13 and may be removed in the future, please use 'weights' instead.\n",
            "  warnings.warn(\n",
            "/usr/local/lib/python3.10/dist-packages/torchvision/models/_utils.py:223: UserWarning: Arguments other than a weight enum or `None` for 'weights' are deprecated since 0.13 and may be removed in the future. The current behavior is equivalent to passing `weights=None`.\n",
            "  warnings.warn(msg)\n"
          ]
        }
      ]
    },
    {
      "cell_type": "markdown",
      "source": [
        "### Baseline result: Training a ResNet-18 from scratch on SVHN."
      ],
      "metadata": {
        "id": "52v2_R-B2FOB"
      }
    },
    {
      "cell_type": "code",
      "source": [
        "run_training(model, svhn_trainloader, svhn_testloader, criterion = criterion, optimizer = optimizer, num_epochs = epochs)"
      ],
      "metadata": {
        "colab": {
          "base_uri": "https://localhost:8080/"
        },
        "id": "jW4GFaIN0Vnf",
        "outputId": "fdaa47bd-e238-4c6f-f2d6-81f15b80c7c0"
      },
      "execution_count": 6,
      "outputs": [
        {
          "output_type": "stream",
          "name": "stdout",
          "text": [
            "[INFO] Using GPU: Tesla T4\n",
            "\n",
            "100%|\u001b[36m██████████\u001b[0m| 29/29 [00:12<00:00,  2.31it/s, Epoch=0, Train_Loss=1.89]\n",
            "100%|\u001b[36m██████████\u001b[0m| 102/102 [00:09<00:00, 10.28it/s, Epoch=0, Valid_Acc=43.8, Valid_Loss=1.65]\n",
            "Validation Accuracy Improved (0.0 ---> 43.75)\n",
            "\n",
            "100%|\u001b[36m██████████\u001b[0m| 29/29 [00:03<00:00,  8.39it/s, Epoch=1, Train_Loss=0.93]\n",
            "100%|\u001b[36m██████████\u001b[0m| 102/102 [00:10<00:00, 10.19it/s, Epoch=1, Valid_Acc=65, Valid_Loss=1.2]\n",
            "Validation Accuracy Improved (43.75 ---> 65.02)\n",
            "\n",
            "100%|\u001b[36m██████████\u001b[0m| 29/29 [00:03<00:00,  8.44it/s, Epoch=2, Train_Loss=0.57]\n",
            "100%|\u001b[36m██████████\u001b[0m| 102/102 [00:09<00:00, 10.32it/s, Epoch=2, Valid_Acc=74.8, Valid_Loss=0.83]\n",
            "Validation Accuracy Improved (65.02 ---> 74.84)\n",
            "\n",
            "100%|\u001b[36m██████████\u001b[0m| 29/29 [00:03<00:00,  7.46it/s, Epoch=3, Train_Loss=0.4]\n",
            "100%|\u001b[36m██████████\u001b[0m| 102/102 [00:09<00:00, 10.71it/s, Epoch=3, Valid_Acc=76.9, Valid_Loss=0.8]\n",
            "Validation Accuracy Improved (74.84 ---> 76.94)\n",
            "\n",
            "100%|\u001b[36m██████████\u001b[0m| 29/29 [00:04<00:00,  7.14it/s, Epoch=4, Train_Loss=0.31]\n",
            "100%|\u001b[36m██████████\u001b[0m| 102/102 [00:09<00:00, 11.13it/s, Epoch=4, Valid_Acc=75, Valid_Loss=0.87]\n",
            "\n"
          ]
        }
      ]
    },
    {
      "cell_type": "markdown",
      "source": [
        "## Baseline SVHN result is ... okish?"
      ],
      "metadata": {
        "id": "QyoKP0Ue4Zkx"
      }
    },
    {
      "cell_type": "markdown",
      "source": [
        "Can we do better?\n",
        "\n",
        "YES!\n",
        "\n",
        "Let's pretrain on CIFAR10 using SimCLR. First, let's define the SimCLR loss (contrastive loss).\n",
        "\n",
        "Details are not important now. You can read the paper if you want to learn more."
      ],
      "metadata": {
        "id": "AoTLtOfz4gyy"
      }
    },
    {
      "cell_type": "code",
      "source": [
        "class SimCLRLoss(nn.Module):\n",
        "    def __init__(self, batch_size, temperature):\n",
        "        super().__init__()\n",
        "        self.batch_size = batch_size\n",
        "        self.temperature = temperature\n",
        "\n",
        "        self.mask = self.mask_correlated_samples(batch_size)\n",
        "        self.criterion = nn.CrossEntropyLoss(reduction=\"sum\")\n",
        "        self.similarity_f = nn.CosineSimilarity(dim=2)\n",
        "\n",
        "    def mask_correlated_samples(self, batch_size):\n",
        "        N = 2 * batch_size\n",
        "        mask = torch.ones((N, N), dtype=bool)\n",
        "        mask = mask.fill_diagonal_(0)\n",
        "\n",
        "        for i in range(batch_size):\n",
        "            mask[i, batch_size + i] = 0\n",
        "            mask[batch_size + i, i] = 0\n",
        "        return mask\n",
        "\n",
        "    def forward(self, z_i, z_j):\n",
        "\n",
        "        N = 2 * self.batch_size\n",
        "\n",
        "        z = torch.cat((z_i, z_j), dim=0)\n",
        "\n",
        "        sim = self.similarity_f(z.unsqueeze(1), z.unsqueeze(0)) / self.temperature\n",
        "\n",
        "        sim_i_j = torch.diag(sim, self.batch_size)\n",
        "        sim_j_i = torch.diag(sim, -self.batch_size)\n",
        "\n",
        "        # We have 2N samples, but with Distributed training every GPU gets N examples too, resulting in: 2xNxN\n",
        "        positive_samples = torch.cat((sim_i_j, sim_j_i), dim=0).reshape(N, 1)\n",
        "        negative_samples = sim[self.mask].reshape(N, -1)\n",
        "\n",
        "        #SIMCLR\n",
        "        labels = torch.from_numpy(np.array([0]*N)).reshape(-1).to(positive_samples.device).long() #.float()\n",
        "\n",
        "        logits = torch.cat((positive_samples, negative_samples), dim=1)\n",
        "        loss = self.criterion(logits, labels)\n",
        "        loss /= N\n",
        "\n",
        "        return loss\n",
        "\n",
        "# helper stuff\n",
        "def plot_features(model, dataloader, num_feats, batch_size):\n",
        "    preds = np.array([]).reshape((0,1))\n",
        "    gt = np.array([]).reshape((0,1))\n",
        "    feats = np.array([]).reshape((0,num_feats))\n",
        "    model.eval()\n",
        "    with torch.no_grad():\n",
        "        for i, (x1,x2) in enumerate(dataloader):\n",
        "            x1 = x1.squeeze().to(device = device, dtype = torch.float)\n",
        "            out = model(x1)\n",
        "            out = out.cpu().data.numpy()\n",
        "            feats = np.append(feats, out, axis = 0)\n",
        "\n",
        "            if i == 100:\n",
        "              break\n",
        "\n",
        "    tsne = TSNE(n_components = 2, perplexity = 50, verbose = 2)\n",
        "    x_feats = tsne.fit_transform(feats)\n",
        "\n",
        "    plt.scatter(x_feats[:, 1], x_feats[:, 0])\n",
        "    plt.show()"
      ],
      "metadata": {
        "id": "2FR_7alS2O4k"
      },
      "execution_count": 7,
      "outputs": []
    },
    {
      "cell_type": "markdown",
      "source": [
        "Custom model wrapper to have a projection head."
      ],
      "metadata": {
        "id": "_HrM_KDc5DSS"
      }
    },
    {
      "cell_type": "code",
      "source": [
        "class Identity(nn.Module):\n",
        "    def __init__(self):\n",
        "        super(Identity, self).__init__()\n",
        "\n",
        "    def forward(self, x):\n",
        "        return x\n",
        "\n",
        "class ModelForPretraining(nn.Module):\n",
        "    def __init__(self, projector_size):\n",
        "        super().__init__()\n",
        "\n",
        "        self.pretrained = torchvision.models.resnet18(pretrained=False)\n",
        "\n",
        "        self.pretrained.conv1 = nn.Conv2d(3, 64, kernel_size=(3, 3), stride=(1, 1), bias=False)\n",
        "        self.pretrained.maxpool = Identity()\n",
        "        self.pretrained.fc = Identity()\n",
        "\n",
        "        for p in self.pretrained.parameters():\n",
        "            p.requires_grad = True\n",
        "\n",
        "        # TODO probably needs some adjusting, maybe it's too small?\n",
        "        self.projector = nn.Linear(512, projector_size, bias = True)\n",
        "\n",
        "    def forward(self,x):\n",
        "        out = self.pretrained(x)\n",
        "        xp = self.projector(torch.squeeze(out))\n",
        "        return xp\n",
        "\n",
        "class ModelForFinetuning(nn.Module):\n",
        "    def __init__(self, pretrained_model):\n",
        "        super().__init__()\n",
        "\n",
        "        self.premodel = pretrained_model\n",
        "        self.num_classes = 10\n",
        "\n",
        "        # Freeze the layers of the pretrained model\n",
        "\n",
        "        # TODO Optionally freeze model parameters if you have a good model and train only the last layer\n",
        "        for p in self.premodel.parameters():\n",
        "            p.requires_grad = False\n",
        "\n",
        "        for p in self.premodel.projector.parameters():\n",
        "            p.requires_grad = False\n",
        "\n",
        "        # Fine-tune only the last layer\n",
        "        self.lastlayer = nn.Linear(512, self.num_classes)\n",
        "\n",
        "    def forward(self,x):\n",
        "        out = self.premodel.pretrained(x)\n",
        "        out = self.lastlayer(out)\n",
        "        return out"
      ],
      "metadata": {
        "id": "UFQfSTWL4-DO"
      },
      "execution_count": 8,
      "outputs": []
    },
    {
      "cell_type": "markdown",
      "source": [
        "# SimCLR training loop\n",
        "## Augment an image two ways and compute the contrastive loss with respect to the other images in the batch"
      ],
      "metadata": {
        "id": "AxiKrg_w6XwN"
      }
    },
    {
      "cell_type": "code",
      "source": [
        "class TwoViewsDataset(torch.utils.data.Dataset):\n",
        "  def __init__(self, source_dataset):\n",
        "    # WARNING !!!! This assumes the dataset outputs augmented images\n",
        "    self.source_dataset = source_dataset\n",
        "\n",
        "  def __len__(self):\n",
        "    return len(self.source_dataset)\n",
        "\n",
        "  def __getitem__(self, idx):\n",
        "    # each time is a different augmentation of the same image\n",
        "    view1, _ = self.source_dataset[idx]\n",
        "    view2, _ = self.source_dataset[idx]\n",
        "\n",
        "    return view1, view2"
      ],
      "metadata": {
        "id": "CinJxtmq8fmC"
      },
      "execution_count": 9,
      "outputs": []
    },
    {
      "cell_type": "code",
      "source": [
        "cifar_trainloader = DataLoader(TwoViewsDataset(source_dataset = cifar_trainset), batch_size=128, shuffle=True, drop_last = True)\n",
        "cifar_testloader = DataLoader(TwoViewsDataset(source_dataset = cifar_testset), batch_size=128, shuffle=True, drop_last = True)\n",
        "\n",
        "\n",
        "# Usually train for a longer time\n",
        "epochs = 5\n",
        "\n",
        "model_for_pretraining = ModelForPretraining(projector_size = 256) # TODO might need some changes to the projector_size? Check the paper.\n",
        "model_for_pretraining.to(device)\n",
        "\n",
        "criterion = SimCLRLoss(batch_size = 128, temperature = 1.0) # TODO temperature might need some changes. Check the paper.\n",
        "optimizer = optim.Adam(model_for_pretraining.parameters(), lr=learning_rate)\n",
        "\n",
        "for epoch in range(epochs):\n",
        "    print(f\"Epoch [{epoch}/{epochs}]\\t\")\n",
        "    model_for_pretraining.train()\n",
        "\n",
        "    for step, (x_i, x_j) in enumerate(tqdm(cifar_trainloader, total = len(cifar_trainloader))):\n",
        "        optimizer.zero_grad()\n",
        "\n",
        "        x_i = x_i.squeeze().to(device).float()\n",
        "        x_j = x_j.squeeze().to(device).float()\n",
        "\n",
        "        # positive pair, with encoding\n",
        "        z_i = model_for_pretraining(x_i)\n",
        "        z_j = model_for_pretraining(x_j)\n",
        "\n",
        "        loss = criterion(z_i, z_j)\n",
        "        loss.backward()\n",
        "\n",
        "        optimizer.step()\n",
        "\n",
        "        if step % 25 == 0:\n",
        "            print(f\"Step [{step}/{len(cifar_trainloader)}]\\t Train Loss: {round(loss.item(), 5)}\")\n",
        "\n",
        "    model_for_pretraining.eval()\n",
        "\n",
        "    # Evaluation\n",
        "    with torch.no_grad():\n",
        "        val_loss_epoch = 0\n",
        "        for step, (x_i, x_j) in enumerate(tqdm(cifar_testloader, total = len(cifar_testloader))):\n",
        "\n",
        "          x_i = x_i.squeeze().to(device).float()\n",
        "          x_j = x_j.squeeze().to(device).float()\n",
        "\n",
        "          # positive pair, with encoding\n",
        "          z_i = model_for_pretraining(x_i)\n",
        "          z_j = model_for_pretraining(x_j)\n",
        "\n",
        "          loss = criterion(z_i, z_j)\n",
        "\n",
        "          if step % 25 == 0:\n",
        "              print(f\"Step [{step}/{len(cifar_testloader)}]\\t Val Loss: {round(loss.item(),5)}\")\n",
        "\n",
        "          val_loss_epoch += loss.item()\n",
        "\n",
        "    print(f\"Epoch [{epoch}/{epochs}]\")\n",
        "    # TODO uncomment this to visualize clustering after each epoch. But it takes some time.\n",
        "    # plot_features(model_for_pretraining.pretrained, cifar_testloader, 512, 128)\n"
      ],
      "metadata": {
        "colab": {
          "base_uri": "https://localhost:8080/"
        },
        "id": "yqY0m1th6MhY",
        "outputId": "2f0e42eb-1025-43ef-804b-fad45cb6e3e7"
      },
      "execution_count": 10,
      "outputs": [
        {
          "output_type": "stream",
          "name": "stdout",
          "text": [
            "Epoch [0/5]\t\n"
          ]
        },
        {
          "output_type": "stream",
          "name": "stderr",
          "text": [
            "  1%|          | 2/390 [00:00<01:57,  3.29it/s]"
          ]
        },
        {
          "output_type": "stream",
          "name": "stdout",
          "text": [
            "Step [0/390]\t Train Loss: 5.44982\n"
          ]
        },
        {
          "output_type": "stream",
          "name": "stderr",
          "text": [
            "  7%|▋         | 27/390 [00:06<01:22,  4.40it/s]"
          ]
        },
        {
          "output_type": "stream",
          "name": "stdout",
          "text": [
            "Step [25/390]\t Train Loss: 4.62459\n"
          ]
        },
        {
          "output_type": "stream",
          "name": "stderr",
          "text": [
            " 13%|█▎        | 52/390 [00:11<01:16,  4.42it/s]"
          ]
        },
        {
          "output_type": "stream",
          "name": "stdout",
          "text": [
            "Step [50/390]\t Train Loss: 4.59876\n"
          ]
        },
        {
          "output_type": "stream",
          "name": "stderr",
          "text": [
            " 20%|█▉        | 77/390 [00:17<01:11,  4.39it/s]"
          ]
        },
        {
          "output_type": "stream",
          "name": "stdout",
          "text": [
            "Step [75/390]\t Train Loss: 4.58446\n"
          ]
        },
        {
          "output_type": "stream",
          "name": "stderr",
          "text": [
            " 26%|██▌       | 102/390 [00:22<01:06,  4.33it/s]"
          ]
        },
        {
          "output_type": "stream",
          "name": "stdout",
          "text": [
            "Step [100/390]\t Train Loss: 4.57579\n"
          ]
        },
        {
          "output_type": "stream",
          "name": "stderr",
          "text": [
            " 33%|███▎      | 127/390 [00:28<01:00,  4.35it/s]"
          ]
        },
        {
          "output_type": "stream",
          "name": "stdout",
          "text": [
            "Step [125/390]\t Train Loss: 4.57191\n"
          ]
        },
        {
          "output_type": "stream",
          "name": "stderr",
          "text": [
            " 39%|███▉      | 152/390 [00:34<00:54,  4.34it/s]"
          ]
        },
        {
          "output_type": "stream",
          "name": "stdout",
          "text": [
            "Step [150/390]\t Train Loss: 4.56552\n"
          ]
        },
        {
          "output_type": "stream",
          "name": "stderr",
          "text": [
            " 45%|████▌     | 177/390 [00:39<00:49,  4.33it/s]"
          ]
        },
        {
          "output_type": "stream",
          "name": "stdout",
          "text": [
            "Step [175/390]\t Train Loss: 4.56307\n"
          ]
        },
        {
          "output_type": "stream",
          "name": "stderr",
          "text": [
            " 52%|█████▏    | 202/390 [00:45<00:43,  4.29it/s]"
          ]
        },
        {
          "output_type": "stream",
          "name": "stdout",
          "text": [
            "Step [200/390]\t Train Loss: 4.56151\n"
          ]
        },
        {
          "output_type": "stream",
          "name": "stderr",
          "text": [
            " 58%|█████▊    | 227/390 [00:51<00:38,  4.27it/s]"
          ]
        },
        {
          "output_type": "stream",
          "name": "stdout",
          "text": [
            "Step [225/390]\t Train Loss: 4.56093\n"
          ]
        },
        {
          "output_type": "stream",
          "name": "stderr",
          "text": [
            " 65%|██████▍   | 252/390 [00:56<00:32,  4.29it/s]"
          ]
        },
        {
          "output_type": "stream",
          "name": "stdout",
          "text": [
            "Step [250/390]\t Train Loss: 4.55868\n"
          ]
        },
        {
          "output_type": "stream",
          "name": "stderr",
          "text": [
            " 71%|███████   | 277/390 [01:02<00:27,  4.08it/s]"
          ]
        },
        {
          "output_type": "stream",
          "name": "stdout",
          "text": [
            "Step [275/390]\t Train Loss: 4.55825\n"
          ]
        },
        {
          "output_type": "stream",
          "name": "stderr",
          "text": [
            " 77%|███████▋  | 302/390 [01:08<00:20,  4.24it/s]"
          ]
        },
        {
          "output_type": "stream",
          "name": "stdout",
          "text": [
            "Step [300/390]\t Train Loss: 4.55587\n"
          ]
        },
        {
          "output_type": "stream",
          "name": "stderr",
          "text": [
            " 84%|████████▍ | 327/390 [01:14<00:15,  4.09it/s]"
          ]
        },
        {
          "output_type": "stream",
          "name": "stdout",
          "text": [
            "Step [325/390]\t Train Loss: 4.55584\n"
          ]
        },
        {
          "output_type": "stream",
          "name": "stderr",
          "text": [
            " 90%|█████████ | 352/390 [01:19<00:08,  4.25it/s]"
          ]
        },
        {
          "output_type": "stream",
          "name": "stdout",
          "text": [
            "Step [350/390]\t Train Loss: 4.55532\n"
          ]
        },
        {
          "output_type": "stream",
          "name": "stderr",
          "text": [
            " 97%|█████████▋| 377/390 [01:25<00:03,  4.12it/s]"
          ]
        },
        {
          "output_type": "stream",
          "name": "stdout",
          "text": [
            "Step [375/390]\t Train Loss: 4.55444\n"
          ]
        },
        {
          "output_type": "stream",
          "name": "stderr",
          "text": [
            "100%|██████████| 390/390 [01:28<00:00,  4.40it/s]\n",
            "  3%|▎         | 2/78 [00:00<00:12,  6.21it/s]"
          ]
        },
        {
          "output_type": "stream",
          "name": "stdout",
          "text": [
            "Step [0/78]\t Val Loss: 4.57596\n"
          ]
        },
        {
          "output_type": "stream",
          "name": "stderr",
          "text": [
            " 35%|███▍      | 27/78 [00:03<00:06,  7.58it/s]"
          ]
        },
        {
          "output_type": "stream",
          "name": "stdout",
          "text": [
            "Step [25/78]\t Val Loss: 4.57154\n"
          ]
        },
        {
          "output_type": "stream",
          "name": "stderr",
          "text": [
            " 67%|██████▋   | 52/78 [00:06<00:03,  7.32it/s]"
          ]
        },
        {
          "output_type": "stream",
          "name": "stdout",
          "text": [
            "Step [50/78]\t Val Loss: 4.57143\n"
          ]
        },
        {
          "output_type": "stream",
          "name": "stderr",
          "text": [
            " 99%|█████████▊| 77/78 [00:10<00:00,  5.97it/s]"
          ]
        },
        {
          "output_type": "stream",
          "name": "stdout",
          "text": [
            "Step [75/78]\t Val Loss: 4.57218\n"
          ]
        },
        {
          "output_type": "stream",
          "name": "stderr",
          "text": [
            "100%|██████████| 78/78 [00:10<00:00,  7.24it/s]\n"
          ]
        },
        {
          "output_type": "stream",
          "name": "stdout",
          "text": [
            "Epoch [0/5]\n",
            "Epoch [1/5]\t\n"
          ]
        },
        {
          "output_type": "stream",
          "name": "stderr",
          "text": [
            "  1%|          | 2/390 [00:00<01:19,  4.86it/s]"
          ]
        },
        {
          "output_type": "stream",
          "name": "stdout",
          "text": [
            "Step [0/390]\t Train Loss: 4.55397\n"
          ]
        },
        {
          "output_type": "stream",
          "name": "stderr",
          "text": [
            "  7%|▋         | 27/390 [00:06<01:24,  4.31it/s]"
          ]
        },
        {
          "output_type": "stream",
          "name": "stdout",
          "text": [
            "Step [25/390]\t Train Loss: 4.5541\n"
          ]
        },
        {
          "output_type": "stream",
          "name": "stderr",
          "text": [
            " 13%|█▎        | 52/390 [00:11<01:23,  4.07it/s]"
          ]
        },
        {
          "output_type": "stream",
          "name": "stdout",
          "text": [
            "Step [50/390]\t Train Loss: 4.55265\n"
          ]
        },
        {
          "output_type": "stream",
          "name": "stderr",
          "text": [
            " 20%|█▉        | 77/390 [00:17<01:12,  4.29it/s]"
          ]
        },
        {
          "output_type": "stream",
          "name": "stdout",
          "text": [
            "Step [75/390]\t Train Loss: 4.55327\n"
          ]
        },
        {
          "output_type": "stream",
          "name": "stderr",
          "text": [
            " 26%|██▌       | 102/390 [00:23<01:10,  4.09it/s]"
          ]
        },
        {
          "output_type": "stream",
          "name": "stdout",
          "text": [
            "Step [100/390]\t Train Loss: 4.5527\n"
          ]
        },
        {
          "output_type": "stream",
          "name": "stderr",
          "text": [
            " 33%|███▎      | 127/390 [00:28<01:01,  4.28it/s]"
          ]
        },
        {
          "output_type": "stream",
          "name": "stdout",
          "text": [
            "Step [125/390]\t Train Loss: 4.55229\n"
          ]
        },
        {
          "output_type": "stream",
          "name": "stderr",
          "text": [
            " 39%|███▉      | 152/390 [00:34<00:58,  4.04it/s]"
          ]
        },
        {
          "output_type": "stream",
          "name": "stdout",
          "text": [
            "Step [150/390]\t Train Loss: 4.55179\n"
          ]
        },
        {
          "output_type": "stream",
          "name": "stderr",
          "text": [
            " 45%|████▌     | 177/390 [00:40<00:49,  4.28it/s]"
          ]
        },
        {
          "output_type": "stream",
          "name": "stdout",
          "text": [
            "Step [175/390]\t Train Loss: 4.55112\n"
          ]
        },
        {
          "output_type": "stream",
          "name": "stderr",
          "text": [
            " 52%|█████▏    | 202/390 [00:46<00:44,  4.26it/s]"
          ]
        },
        {
          "output_type": "stream",
          "name": "stdout",
          "text": [
            "Step [200/390]\t Train Loss: 4.55152\n"
          ]
        },
        {
          "output_type": "stream",
          "name": "stderr",
          "text": [
            " 58%|█████▊    | 227/390 [00:51<00:38,  4.28it/s]"
          ]
        },
        {
          "output_type": "stream",
          "name": "stdout",
          "text": [
            "Step [225/390]\t Train Loss: 4.55179\n"
          ]
        },
        {
          "output_type": "stream",
          "name": "stderr",
          "text": [
            " 65%|██████▍   | 252/390 [00:57<00:32,  4.30it/s]"
          ]
        },
        {
          "output_type": "stream",
          "name": "stdout",
          "text": [
            "Step [250/390]\t Train Loss: 4.55095\n"
          ]
        },
        {
          "output_type": "stream",
          "name": "stderr",
          "text": [
            " 71%|███████   | 277/390 [01:03<00:26,  4.25it/s]"
          ]
        },
        {
          "output_type": "stream",
          "name": "stdout",
          "text": [
            "Step [275/390]\t Train Loss: 4.55074\n"
          ]
        },
        {
          "output_type": "stream",
          "name": "stderr",
          "text": [
            " 77%|███████▋  | 302/390 [01:09<00:20,  4.30it/s]"
          ]
        },
        {
          "output_type": "stream",
          "name": "stdout",
          "text": [
            "Step [300/390]\t Train Loss: 4.55011\n"
          ]
        },
        {
          "output_type": "stream",
          "name": "stderr",
          "text": [
            " 84%|████████▍ | 327/390 [01:14<00:14,  4.27it/s]"
          ]
        },
        {
          "output_type": "stream",
          "name": "stdout",
          "text": [
            "Step [325/390]\t Train Loss: 4.54951\n"
          ]
        },
        {
          "output_type": "stream",
          "name": "stderr",
          "text": [
            " 90%|█████████ | 352/390 [01:20<00:08,  4.29it/s]"
          ]
        },
        {
          "output_type": "stream",
          "name": "stdout",
          "text": [
            "Step [350/390]\t Train Loss: 4.5504\n"
          ]
        },
        {
          "output_type": "stream",
          "name": "stderr",
          "text": [
            " 97%|█████████▋| 377/390 [01:26<00:03,  4.27it/s]"
          ]
        },
        {
          "output_type": "stream",
          "name": "stdout",
          "text": [
            "Step [375/390]\t Train Loss: 4.54935\n"
          ]
        },
        {
          "output_type": "stream",
          "name": "stderr",
          "text": [
            "100%|██████████| 390/390 [01:29<00:00,  4.38it/s]\n",
            "  3%|▎         | 2/78 [00:00<00:12,  6.32it/s]"
          ]
        },
        {
          "output_type": "stream",
          "name": "stdout",
          "text": [
            "Step [0/78]\t Val Loss: 4.56443\n"
          ]
        },
        {
          "output_type": "stream",
          "name": "stderr",
          "text": [
            " 35%|███▍      | 27/78 [00:03<00:06,  7.57it/s]"
          ]
        },
        {
          "output_type": "stream",
          "name": "stdout",
          "text": [
            "Step [25/78]\t Val Loss: 4.56377\n"
          ]
        },
        {
          "output_type": "stream",
          "name": "stderr",
          "text": [
            " 67%|██████▋   | 52/78 [00:07<00:04,  6.02it/s]"
          ]
        },
        {
          "output_type": "stream",
          "name": "stdout",
          "text": [
            "Step [50/78]\t Val Loss: 4.56607\n"
          ]
        },
        {
          "output_type": "stream",
          "name": "stderr",
          "text": [
            " 99%|█████████▊| 77/78 [00:10<00:00,  7.43it/s]"
          ]
        },
        {
          "output_type": "stream",
          "name": "stdout",
          "text": [
            "Step [75/78]\t Val Loss: 4.56365\n"
          ]
        },
        {
          "output_type": "stream",
          "name": "stderr",
          "text": [
            "100%|██████████| 78/78 [00:10<00:00,  7.12it/s]\n"
          ]
        },
        {
          "output_type": "stream",
          "name": "stdout",
          "text": [
            "Epoch [1/5]\n",
            "Epoch [2/5]\t\n"
          ]
        },
        {
          "output_type": "stream",
          "name": "stderr",
          "text": [
            "  1%|          | 2/390 [00:00<01:21,  4.78it/s]"
          ]
        },
        {
          "output_type": "stream",
          "name": "stdout",
          "text": [
            "Step [0/390]\t Train Loss: 4.54995\n"
          ]
        },
        {
          "output_type": "stream",
          "name": "stderr",
          "text": [
            "  7%|▋         | 27/390 [00:06<01:24,  4.28it/s]"
          ]
        },
        {
          "output_type": "stream",
          "name": "stdout",
          "text": [
            "Step [25/390]\t Train Loss: 4.54994\n"
          ]
        },
        {
          "output_type": "stream",
          "name": "stderr",
          "text": [
            " 13%|█▎        | 52/390 [00:11<01:18,  4.32it/s]"
          ]
        },
        {
          "output_type": "stream",
          "name": "stdout",
          "text": [
            "Step [50/390]\t Train Loss: 4.54937\n"
          ]
        },
        {
          "output_type": "stream",
          "name": "stderr",
          "text": [
            " 20%|█▉        | 77/390 [00:17<01:13,  4.28it/s]"
          ]
        },
        {
          "output_type": "stream",
          "name": "stdout",
          "text": [
            "Step [75/390]\t Train Loss: 4.54962\n"
          ]
        },
        {
          "output_type": "stream",
          "name": "stderr",
          "text": [
            " 26%|██▌       | 102/390 [00:23<01:07,  4.27it/s]"
          ]
        },
        {
          "output_type": "stream",
          "name": "stdout",
          "text": [
            "Step [100/390]\t Train Loss: 4.54866\n"
          ]
        },
        {
          "output_type": "stream",
          "name": "stderr",
          "text": [
            " 33%|███▎      | 127/390 [00:29<01:01,  4.27it/s]"
          ]
        },
        {
          "output_type": "stream",
          "name": "stdout",
          "text": [
            "Step [125/390]\t Train Loss: 4.54863\n"
          ]
        },
        {
          "output_type": "stream",
          "name": "stderr",
          "text": [
            " 39%|███▉      | 152/390 [00:34<00:55,  4.26it/s]"
          ]
        },
        {
          "output_type": "stream",
          "name": "stdout",
          "text": [
            "Step [150/390]\t Train Loss: 4.54957\n"
          ]
        },
        {
          "output_type": "stream",
          "name": "stderr",
          "text": [
            " 45%|████▌     | 177/390 [00:40<00:49,  4.26it/s]"
          ]
        },
        {
          "output_type": "stream",
          "name": "stdout",
          "text": [
            "Step [175/390]\t Train Loss: 4.54861\n"
          ]
        },
        {
          "output_type": "stream",
          "name": "stderr",
          "text": [
            " 52%|█████▏    | 202/390 [00:46<00:44,  4.27it/s]"
          ]
        },
        {
          "output_type": "stream",
          "name": "stdout",
          "text": [
            "Step [200/390]\t Train Loss: 4.54811\n"
          ]
        },
        {
          "output_type": "stream",
          "name": "stderr",
          "text": [
            " 58%|█████▊    | 227/390 [00:51<00:37,  4.29it/s]"
          ]
        },
        {
          "output_type": "stream",
          "name": "stdout",
          "text": [
            "Step [225/390]\t Train Loss: 4.54908\n"
          ]
        },
        {
          "output_type": "stream",
          "name": "stderr",
          "text": [
            " 65%|██████▍   | 252/390 [00:57<00:33,  4.08it/s]"
          ]
        },
        {
          "output_type": "stream",
          "name": "stdout",
          "text": [
            "Step [250/390]\t Train Loss: 4.54916\n"
          ]
        },
        {
          "output_type": "stream",
          "name": "stderr",
          "text": [
            " 71%|███████   | 277/390 [01:03<00:26,  4.24it/s]"
          ]
        },
        {
          "output_type": "stream",
          "name": "stdout",
          "text": [
            "Step [275/390]\t Train Loss: 4.5484\n"
          ]
        },
        {
          "output_type": "stream",
          "name": "stderr",
          "text": [
            " 77%|███████▋  | 302/390 [01:09<00:21,  4.13it/s]"
          ]
        },
        {
          "output_type": "stream",
          "name": "stdout",
          "text": [
            "Step [300/390]\t Train Loss: 4.54829\n"
          ]
        },
        {
          "output_type": "stream",
          "name": "stderr",
          "text": [
            " 84%|████████▍ | 327/390 [01:14<00:14,  4.29it/s]"
          ]
        },
        {
          "output_type": "stream",
          "name": "stdout",
          "text": [
            "Step [325/390]\t Train Loss: 4.54817\n"
          ]
        },
        {
          "output_type": "stream",
          "name": "stderr",
          "text": [
            " 90%|█████████ | 352/390 [01:20<00:09,  4.04it/s]"
          ]
        },
        {
          "output_type": "stream",
          "name": "stdout",
          "text": [
            "Step [350/390]\t Train Loss: 4.54864\n"
          ]
        },
        {
          "output_type": "stream",
          "name": "stderr",
          "text": [
            " 97%|█████████▋| 377/390 [01:26<00:03,  4.32it/s]"
          ]
        },
        {
          "output_type": "stream",
          "name": "stdout",
          "text": [
            "Step [375/390]\t Train Loss: 4.54799\n"
          ]
        },
        {
          "output_type": "stream",
          "name": "stderr",
          "text": [
            "100%|██████████| 390/390 [01:29<00:00,  4.37it/s]\n",
            "  3%|▎         | 2/78 [00:00<00:12,  6.17it/s]"
          ]
        },
        {
          "output_type": "stream",
          "name": "stdout",
          "text": [
            "Step [0/78]\t Val Loss: 4.56503\n"
          ]
        },
        {
          "output_type": "stream",
          "name": "stderr",
          "text": [
            " 35%|███▍      | 27/78 [00:03<00:08,  6.12it/s]"
          ]
        },
        {
          "output_type": "stream",
          "name": "stdout",
          "text": [
            "Step [25/78]\t Val Loss: 4.55868\n"
          ]
        },
        {
          "output_type": "stream",
          "name": "stderr",
          "text": [
            " 67%|██████▋   | 52/78 [00:07<00:03,  7.37it/s]"
          ]
        },
        {
          "output_type": "stream",
          "name": "stdout",
          "text": [
            "Step [50/78]\t Val Loss: 4.56079\n"
          ]
        },
        {
          "output_type": "stream",
          "name": "stderr",
          "text": [
            " 99%|█████████▊| 77/78 [00:11<00:00,  7.27it/s]"
          ]
        },
        {
          "output_type": "stream",
          "name": "stdout",
          "text": [
            "Step [75/78]\t Val Loss: 4.56073\n"
          ]
        },
        {
          "output_type": "stream",
          "name": "stderr",
          "text": [
            "100%|██████████| 78/78 [00:11<00:00,  6.99it/s]\n"
          ]
        },
        {
          "output_type": "stream",
          "name": "stdout",
          "text": [
            "Epoch [2/5]\n",
            "Epoch [3/5]\t\n"
          ]
        },
        {
          "output_type": "stream",
          "name": "stderr",
          "text": [
            "  1%|          | 2/390 [00:00<01:22,  4.72it/s]"
          ]
        },
        {
          "output_type": "stream",
          "name": "stdout",
          "text": [
            "Step [0/390]\t Train Loss: 4.54851\n"
          ]
        },
        {
          "output_type": "stream",
          "name": "stderr",
          "text": [
            "  7%|▋         | 26/390 [00:06<01:37,  3.71it/s]"
          ]
        },
        {
          "output_type": "stream",
          "name": "stdout",
          "text": [
            "Step [25/390]\t Train Loss: 4.54812\n"
          ]
        },
        {
          "output_type": "stream",
          "name": "stderr",
          "text": [
            " 13%|█▎        | 52/390 [00:11<01:18,  4.30it/s]"
          ]
        },
        {
          "output_type": "stream",
          "name": "stdout",
          "text": [
            "Step [50/390]\t Train Loss: 4.54791\n"
          ]
        },
        {
          "output_type": "stream",
          "name": "stderr",
          "text": [
            " 20%|█▉        | 77/390 [00:17<01:16,  4.11it/s]"
          ]
        },
        {
          "output_type": "stream",
          "name": "stdout",
          "text": [
            "Step [75/390]\t Train Loss: 4.54832\n"
          ]
        },
        {
          "output_type": "stream",
          "name": "stderr",
          "text": [
            " 26%|██▌       | 102/390 [00:23<01:07,  4.24it/s]"
          ]
        },
        {
          "output_type": "stream",
          "name": "stdout",
          "text": [
            "Step [100/390]\t Train Loss: 4.54804\n"
          ]
        },
        {
          "output_type": "stream",
          "name": "stderr",
          "text": [
            " 33%|███▎      | 127/390 [00:29<01:04,  4.08it/s]"
          ]
        },
        {
          "output_type": "stream",
          "name": "stdout",
          "text": [
            "Step [125/390]\t Train Loss: 4.54771\n"
          ]
        },
        {
          "output_type": "stream",
          "name": "stderr",
          "text": [
            " 39%|███▉      | 152/390 [00:34<00:55,  4.29it/s]"
          ]
        },
        {
          "output_type": "stream",
          "name": "stdout",
          "text": [
            "Step [150/390]\t Train Loss: 4.54752\n"
          ]
        },
        {
          "output_type": "stream",
          "name": "stderr",
          "text": [
            " 45%|████▌     | 177/390 [00:40<00:49,  4.27it/s]"
          ]
        },
        {
          "output_type": "stream",
          "name": "stdout",
          "text": [
            "Step [175/390]\t Train Loss: 4.54775\n"
          ]
        },
        {
          "output_type": "stream",
          "name": "stderr",
          "text": [
            " 52%|█████▏    | 202/390 [00:46<00:43,  4.28it/s]"
          ]
        },
        {
          "output_type": "stream",
          "name": "stdout",
          "text": [
            "Step [200/390]\t Train Loss: 4.54771\n"
          ]
        },
        {
          "output_type": "stream",
          "name": "stderr",
          "text": [
            " 58%|█████▊    | 227/390 [00:52<00:38,  4.21it/s]"
          ]
        },
        {
          "output_type": "stream",
          "name": "stdout",
          "text": [
            "Step [225/390]\t Train Loss: 4.54725\n"
          ]
        },
        {
          "output_type": "stream",
          "name": "stderr",
          "text": [
            " 65%|██████▍   | 252/390 [00:57<00:32,  4.26it/s]"
          ]
        },
        {
          "output_type": "stream",
          "name": "stdout",
          "text": [
            "Step [250/390]\t Train Loss: 4.54747\n"
          ]
        },
        {
          "output_type": "stream",
          "name": "stderr",
          "text": [
            " 71%|███████   | 277/390 [01:03<00:26,  4.22it/s]"
          ]
        },
        {
          "output_type": "stream",
          "name": "stdout",
          "text": [
            "Step [275/390]\t Train Loss: 4.54733\n"
          ]
        },
        {
          "output_type": "stream",
          "name": "stderr",
          "text": [
            " 77%|███████▋  | 302/390 [01:09<00:20,  4.28it/s]"
          ]
        },
        {
          "output_type": "stream",
          "name": "stdout",
          "text": [
            "Step [300/390]\t Train Loss: 4.5474\n"
          ]
        },
        {
          "output_type": "stream",
          "name": "stderr",
          "text": [
            " 84%|████████▍ | 327/390 [01:14<00:14,  4.28it/s]"
          ]
        },
        {
          "output_type": "stream",
          "name": "stdout",
          "text": [
            "Step [325/390]\t Train Loss: 4.54745\n"
          ]
        },
        {
          "output_type": "stream",
          "name": "stderr",
          "text": [
            " 90%|█████████ | 352/390 [01:20<00:08,  4.29it/s]"
          ]
        },
        {
          "output_type": "stream",
          "name": "stdout",
          "text": [
            "Step [350/390]\t Train Loss: 4.54743\n"
          ]
        },
        {
          "output_type": "stream",
          "name": "stderr",
          "text": [
            " 97%|█████████▋| 377/390 [01:26<00:03,  4.25it/s]"
          ]
        },
        {
          "output_type": "stream",
          "name": "stdout",
          "text": [
            "Step [375/390]\t Train Loss: 4.54719\n"
          ]
        },
        {
          "output_type": "stream",
          "name": "stderr",
          "text": [
            "100%|██████████| 390/390 [01:29<00:00,  4.37it/s]\n",
            "  3%|▎         | 2/78 [00:00<00:12,  6.10it/s]"
          ]
        },
        {
          "output_type": "stream",
          "name": "stdout",
          "text": [
            "Step [0/78]\t Val Loss: 4.56149\n"
          ]
        },
        {
          "output_type": "stream",
          "name": "stderr",
          "text": [
            " 35%|███▍      | 27/78 [00:04<00:06,  7.31it/s]"
          ]
        },
        {
          "output_type": "stream",
          "name": "stdout",
          "text": [
            "Step [25/78]\t Val Loss: 4.56077\n"
          ]
        },
        {
          "output_type": "stream",
          "name": "stderr",
          "text": [
            " 67%|██████▋   | 52/78 [00:07<00:03,  6.53it/s]"
          ]
        },
        {
          "output_type": "stream",
          "name": "stdout",
          "text": [
            "Step [50/78]\t Val Loss: 4.56307\n"
          ]
        },
        {
          "output_type": "stream",
          "name": "stderr",
          "text": [
            " 99%|█████████▊| 77/78 [00:11<00:00,  7.11it/s]"
          ]
        },
        {
          "output_type": "stream",
          "name": "stdout",
          "text": [
            "Step [75/78]\t Val Loss: 4.56162\n"
          ]
        },
        {
          "output_type": "stream",
          "name": "stderr",
          "text": [
            "100%|██████████| 78/78 [00:11<00:00,  6.87it/s]\n"
          ]
        },
        {
          "output_type": "stream",
          "name": "stdout",
          "text": [
            "Epoch [3/5]\n",
            "Epoch [4/5]\t\n"
          ]
        },
        {
          "output_type": "stream",
          "name": "stderr",
          "text": [
            "  1%|          | 2/390 [00:00<01:21,  4.74it/s]"
          ]
        },
        {
          "output_type": "stream",
          "name": "stdout",
          "text": [
            "Step [0/390]\t Train Loss: 4.54717\n"
          ]
        },
        {
          "output_type": "stream",
          "name": "stderr",
          "text": [
            "  7%|▋         | 27/390 [00:06<01:24,  4.28it/s]"
          ]
        },
        {
          "output_type": "stream",
          "name": "stdout",
          "text": [
            "Step [25/390]\t Train Loss: 4.54728\n"
          ]
        },
        {
          "output_type": "stream",
          "name": "stderr",
          "text": [
            " 13%|█▎        | 52/390 [00:11<01:18,  4.29it/s]"
          ]
        },
        {
          "output_type": "stream",
          "name": "stdout",
          "text": [
            "Step [50/390]\t Train Loss: 4.54686\n"
          ]
        },
        {
          "output_type": "stream",
          "name": "stderr",
          "text": [
            " 20%|█▉        | 77/390 [00:17<01:13,  4.28it/s]"
          ]
        },
        {
          "output_type": "stream",
          "name": "stdout",
          "text": [
            "Step [75/390]\t Train Loss: 4.54765\n"
          ]
        },
        {
          "output_type": "stream",
          "name": "stderr",
          "text": [
            " 26%|██▌       | 102/390 [00:23<01:07,  4.27it/s]"
          ]
        },
        {
          "output_type": "stream",
          "name": "stdout",
          "text": [
            "Step [100/390]\t Train Loss: 4.54738\n"
          ]
        },
        {
          "output_type": "stream",
          "name": "stderr",
          "text": [
            " 33%|███▎      | 127/390 [00:29<01:01,  4.29it/s]"
          ]
        },
        {
          "output_type": "stream",
          "name": "stdout",
          "text": [
            "Step [125/390]\t Train Loss: 4.54687\n"
          ]
        },
        {
          "output_type": "stream",
          "name": "stderr",
          "text": [
            " 39%|███▉      | 152/390 [00:34<00:55,  4.28it/s]"
          ]
        },
        {
          "output_type": "stream",
          "name": "stdout",
          "text": [
            "Step [150/390]\t Train Loss: 4.54649\n"
          ]
        },
        {
          "output_type": "stream",
          "name": "stderr",
          "text": [
            " 45%|████▌     | 177/390 [00:40<00:49,  4.29it/s]"
          ]
        },
        {
          "output_type": "stream",
          "name": "stdout",
          "text": [
            "Step [175/390]\t Train Loss: 4.54667\n"
          ]
        },
        {
          "output_type": "stream",
          "name": "stderr",
          "text": [
            " 52%|█████▏    | 202/390 [00:46<00:44,  4.26it/s]"
          ]
        },
        {
          "output_type": "stream",
          "name": "stdout",
          "text": [
            "Step [200/390]\t Train Loss: 4.54673\n"
          ]
        },
        {
          "output_type": "stream",
          "name": "stderr",
          "text": [
            " 58%|█████▊    | 226/390 [00:51<00:44,  3.71it/s]"
          ]
        },
        {
          "output_type": "stream",
          "name": "stdout",
          "text": [
            "Step [225/390]\t Train Loss: 4.54676\n"
          ]
        },
        {
          "output_type": "stream",
          "name": "stderr",
          "text": [
            " 65%|██████▍   | 252/390 [00:57<00:32,  4.28it/s]"
          ]
        },
        {
          "output_type": "stream",
          "name": "stdout",
          "text": [
            "Step [250/390]\t Train Loss: 4.54668\n"
          ]
        },
        {
          "output_type": "stream",
          "name": "stderr",
          "text": [
            " 71%|███████   | 277/390 [01:03<00:27,  4.07it/s]"
          ]
        },
        {
          "output_type": "stream",
          "name": "stdout",
          "text": [
            "Step [275/390]\t Train Loss: 4.54654\n"
          ]
        },
        {
          "output_type": "stream",
          "name": "stderr",
          "text": [
            " 77%|███████▋  | 302/390 [01:09<00:20,  4.28it/s]"
          ]
        },
        {
          "output_type": "stream",
          "name": "stdout",
          "text": [
            "Step [300/390]\t Train Loss: 4.54688\n"
          ]
        },
        {
          "output_type": "stream",
          "name": "stderr",
          "text": [
            " 84%|████████▎ | 326/390 [01:14<00:17,  3.72it/s]"
          ]
        },
        {
          "output_type": "stream",
          "name": "stdout",
          "text": [
            "Step [325/390]\t Train Loss: 4.54712\n"
          ]
        },
        {
          "output_type": "stream",
          "name": "stderr",
          "text": [
            " 90%|█████████ | 352/390 [01:20<00:08,  4.25it/s]"
          ]
        },
        {
          "output_type": "stream",
          "name": "stdout",
          "text": [
            "Step [350/390]\t Train Loss: 4.54698\n"
          ]
        },
        {
          "output_type": "stream",
          "name": "stderr",
          "text": [
            " 97%|█████████▋| 377/390 [01:26<00:03,  4.28it/s]"
          ]
        },
        {
          "output_type": "stream",
          "name": "stdout",
          "text": [
            "Step [375/390]\t Train Loss: 4.54675\n"
          ]
        },
        {
          "output_type": "stream",
          "name": "stderr",
          "text": [
            "100%|██████████| 390/390 [01:29<00:00,  4.37it/s]\n",
            "  3%|▎         | 2/78 [00:00<00:12,  6.11it/s]"
          ]
        },
        {
          "output_type": "stream",
          "name": "stdout",
          "text": [
            "Step [0/78]\t Val Loss: 4.55961\n"
          ]
        },
        {
          "output_type": "stream",
          "name": "stderr",
          "text": [
            " 35%|███▍      | 27/78 [00:03<00:06,  7.48it/s]"
          ]
        },
        {
          "output_type": "stream",
          "name": "stdout",
          "text": [
            "Step [25/78]\t Val Loss: 4.55733\n"
          ]
        },
        {
          "output_type": "stream",
          "name": "stderr",
          "text": [
            " 67%|██████▋   | 52/78 [00:07<00:03,  7.37it/s]"
          ]
        },
        {
          "output_type": "stream",
          "name": "stdout",
          "text": [
            "Step [50/78]\t Val Loss: 4.55868\n"
          ]
        },
        {
          "output_type": "stream",
          "name": "stderr",
          "text": [
            " 99%|█████████▊| 77/78 [00:10<00:00,  6.14it/s]"
          ]
        },
        {
          "output_type": "stream",
          "name": "stdout",
          "text": [
            "Step [75/78]\t Val Loss: 4.55797\n"
          ]
        },
        {
          "output_type": "stream",
          "name": "stderr",
          "text": [
            "100%|██████████| 78/78 [00:10<00:00,  7.20it/s]"
          ]
        },
        {
          "output_type": "stream",
          "name": "stdout",
          "text": [
            "Epoch [4/5]\n"
          ]
        },
        {
          "output_type": "stream",
          "name": "stderr",
          "text": [
            "\n"
          ]
        }
      ]
    },
    {
      "cell_type": "markdown",
      "source": [
        "## Model fine-tuning on 10% of SVHN"
      ],
      "metadata": {
        "id": "t4UpGY5WHebC"
      }
    },
    {
      "cell_type": "code",
      "source": [
        "downstream_model = ModelForFinetuning(pretrained_model = model_for_pretraining)\n",
        "downstream_model.to(device)\n",
        "\n",
        "criterion = nn.CrossEntropyLoss()\n",
        "\n",
        "# Adam is an improved gradient descent algorithm\n",
        "optimizer = optim.Adam(downstream_model.parameters(), lr=0.001)\n",
        "\n",
        "run_training(downstream_model, svhn_trainloader, svhn_testloader, criterion = criterion, optimizer = optimizer, num_epochs = epochs)"
      ],
      "metadata": {
        "colab": {
          "base_uri": "https://localhost:8080/"
        },
        "id": "Git-9vP3H2he",
        "outputId": "636b709c-4edb-4dc7-f9b5-f9938d9ae242"
      },
      "execution_count": 11,
      "outputs": [
        {
          "output_type": "stream",
          "name": "stdout",
          "text": [
            "[INFO] Using GPU: Tesla T4\n",
            "\n",
            "100%|\u001b[36m██████████\u001b[0m| 29/29 [00:04<00:00,  6.98it/s, Epoch=0, Train_Loss=2.35]\n",
            "100%|\u001b[36m██████████\u001b[0m| 102/102 [00:14<00:00,  7.19it/s, Epoch=0, Valid_Acc=16.7, Valid_Loss=2.29]\n",
            "Validation Accuracy Improved (0.0 ---> 16.67)\n",
            "\n",
            "100%|\u001b[36m██████████\u001b[0m| 29/29 [00:03<00:00,  7.29it/s, Epoch=1, Train_Loss=2.25]\n",
            "100%|\u001b[36m██████████\u001b[0m| 102/102 [00:14<00:00,  7.06it/s, Epoch=1, Valid_Acc=15.7, Valid_Loss=2.28]\n",
            "\n",
            "100%|\u001b[36m██████████\u001b[0m| 29/29 [00:04<00:00,  6.69it/s, Epoch=2, Train_Loss=2.22]\n",
            "100%|\u001b[36m██████████\u001b[0m| 102/102 [00:14<00:00,  7.22it/s, Epoch=2, Valid_Acc=17.5, Valid_Loss=2.27]\n",
            "Validation Accuracy Improved (16.67 ---> 17.53)\n",
            "\n",
            "100%|\u001b[36m██████████\u001b[0m| 29/29 [00:04<00:00,  7.21it/s, Epoch=3, Train_Loss=2.2]\n",
            "100%|\u001b[36m██████████\u001b[0m| 102/102 [00:14<00:00,  7.06it/s, Epoch=3, Valid_Acc=17.4, Valid_Loss=2.28]\n",
            "\n",
            "100%|\u001b[36m██████████\u001b[0m| 29/29 [00:04<00:00,  7.09it/s, Epoch=4, Train_Loss=2.19]\n",
            "100%|\u001b[36m██████████\u001b[0m| 102/102 [00:14<00:00,  7.21it/s, Epoch=4, Valid_Acc=15.2, Valid_Loss=2.29]\n",
            "\n"
          ]
        }
      ]
    },
    {
      "cell_type": "markdown",
      "source": [
        "## We have improved results!\n",
        "\n",
        "#### If not, add more augmentations, pretrain for longer. Check the paper for more insights."
      ],
      "metadata": {
        "id": "boRpOWczFJn_"
      }
    },
    {
      "cell_type": "code",
      "source": [],
      "metadata": {
        "id": "ZIfLdn4kIDXg"
      },
      "execution_count": 11,
      "outputs": []
    }
  ]
}